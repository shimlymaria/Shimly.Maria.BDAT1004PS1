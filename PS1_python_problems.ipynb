{
 "cells": [
  {
   "cell_type": "markdown",
   "id": "bc44ce22",
   "metadata": {},
   "source": [
    "# Python Questions "
   ]
  },
  {
   "cell_type": "markdown",
   "id": "bf4f98d3",
   "metadata": {},
   "source": [
    "## 6\n",
    "You can turn a word into pig-Latin using the following two rules (simplified):  \n",
    "• If the word starts with a consonant, move that letter to the end and append\n",
    "'ay'.  For example, 'happy' becomes 'appyhay' and 'pencil' becomes 'encilpay'.  \n",
    "• If the word starts with a vowel, simply append 'way' to the end of the word.\n",
    "  For example, 'enter' becomes 'enterway' and 'other' becomes 'otherway' . For\n",
    "our purposes, there are 5 vowels: a, e, i, o, u (so we count y as a consonant).  \n",
    "Write a function pig() that takes a word (i.e., a string) as input and returns its pig-\n",
    "Latin form.  \n",
    "Your function should still work if the input word contains upper case\n",
    "characters. Your output should always be lower case however.  \n",
    ".>>> pig('happy')  \n",
    "'appyhay'  \n",
    ".>>> pig('Enter')  \n",
    "'enterway'"
   ]
  },
  {
   "cell_type": "code",
   "execution_count": 4,
   "id": "e164a8fd",
   "metadata": {},
   "outputs": [],
   "source": [
    "vowels = ['a','e','i','o','u']\n",
    "def pig(string):\n",
    "    if(string[0].lower() in vowels):\n",
    "        string = string +'way'\n",
    "    else:\n",
    "        string = string[1:] +string[0] +\"ay\"\n",
    "    print(string)"
   ]
  },
  {
   "cell_type": "code",
   "execution_count": 5,
   "id": "0632eb52",
   "metadata": {},
   "outputs": [
    {
     "name": "stdout",
     "output_type": "stream",
     "text": [
      "appyhay\n"
     ]
    }
   ],
   "source": [
    "pig('happy')"
   ]
  },
  {
   "cell_type": "code",
   "execution_count": 8,
   "id": "f359a7e6",
   "metadata": {},
   "outputs": [
    {
     "name": "stdout",
     "output_type": "stream",
     "text": [
      "Enterway\n"
     ]
    }
   ],
   "source": [
    "pig('Enter')"
   ]
  },
  {
   "cell_type": "markdown",
   "id": "27f0b8b2",
   "metadata": {},
   "source": [
    "## 7\n",
    "File bloodtype1.txt records blood-types of patients (A, B, AB, O or OO) at a clinic.  \n",
    "Write a function bldcount() that reads the file with name name and reports (i.e.,  \n",
    "prints) how many patients there are in each bloodtype.  \n",
    ".>>> bldcount('bloodtype.txt')  \n",
    "There are 10 patients of blood type A.  \n",
    "There is one patient of blood type B.  \n",
    "There are 10 patients of blood type AB.  \n",
    "There are 12 patients of blood type O.  \n",
    "There are no patients of blood type OO.  "
   ]
  },
  {
   "cell_type": "code",
   "execution_count": 13,
   "id": "0a1945fd",
   "metadata": {},
   "outputs": [],
   "source": [
    "def bldcount(name : str): \n",
    "  \n",
    "\n",
    "    with open(name, 'r') as file:\n",
    "        bldTypeLst = file.read().split()\n",
    "    bldTypes = ['A','B','AB','O','OO']\n",
    "    for bldType in bldTypes:\n",
    "        count = bldTypeLst.count(bldType)\n",
    "\n",
    "        if(count == 0): \n",
    "            print(f\"There are no patients of blood type {bldType}.\")\n",
    "\n",
    "        elif(count == 1): \n",
    "            print(f\"There is one patient with blood type {bldType}.\")\n",
    "\n",
    "        else:\n",
    "            print(f\"There are {count} patients of blood type {bldType}.\")\n"
   ]
  },
  {
   "cell_type": "code",
   "execution_count": 14,
   "id": "bb56997f",
   "metadata": {},
   "outputs": [
    {
     "name": "stdout",
     "output_type": "stream",
     "text": [
      "There are 15 patients of blood type A.\n",
      "There is one patient with blood type B.\n",
      "There are 13 patients of blood type AB.\n",
      "There are 15 patients of blood type O.\n",
      "There are no patients of blood type OO.\n"
     ]
    }
   ],
   "source": [
    "bldcount('bloodtype1.txt')"
   ]
  },
  {
   "cell_type": "markdown",
   "id": "ea9f8c8e",
   "metadata": {},
   "source": [
    "## 8  \n",
    "Write a function curconv() that takes as input:  \n",
    "1. a currency represented using a string (e.g., 'JPY' for the Japanese Yen or\n",
    "'EUR' for the Euro)\n",
    "2. an amount\n",
    "and then converts and returns the amount in US dollars.  \n",
    ".>>> curconv('EUR', 100)  \n",
    "122.96544  \n",
    ".>>> curconv('JPY', 100)  \n",
    "1.241401  \n",
    "The currency rates you will need are stored in file currencies.txt:  \n",
    "AUD 1.0345157 Australian Dollar  \n",
    "CHF 1.0237414 Swiss Franc  \n",
    "CNY 0.1550176 Chinese Yuan  \n",
    "DKK 0.1651442 Danish Krone  \n",
    "EUR 1.2296544 Euro  \n",
    "GBP 1.5550989 British Pound  \n",
    "HKD 0.1270207 Hong Kong Dollar  \n",
    "INR 0.0177643 Indian Rupee  \n",
    "JPY 0.01241401 Japanese Yen  \n",
    "MXN 0.0751848 Mexican Peso  \n",
    "MYR 0.3145411 Malaysian Ringgit  \n",
    "NOK 0.1677063 Norwegian Krone  \n",
    "NZD 0.8003591 New Zealand Dollar  \n",
    "PHP 0.0233234 Philippine Peso  \n",
    "SEK 0.148269 Swedish Krona  \n",
    "SGD 0.788871 Singapore Dollar  \n",
    "THB 0.0313789 Thai Baht  "
   ]
  },
  {
   "cell_type": "code",
   "execution_count": 15,
   "id": "13cee1ce",
   "metadata": {},
   "outputs": [],
   "source": [
    "file_path = \"currencies.txt\"\n",
    "currencies = []\n",
    "with open(file_path,'r') as file:\n",
    "    \n",
    "    for line in file:\n",
    "        stringLst = line.split(\"\\t\")\n",
    "        data = {\"currency\" : stringLst[0],\n",
    "                \"rate\": float(stringLst[1]),\n",
    "                \"name\": stringLst[2]}\n",
    "        currencies.append(data)\n",
    "\n",
    "def curconv(currency : str , amount : float):\n",
    "    for curr in currencies :\n",
    "        if(curr['currency'] == currency):\n",
    "            result = amount * curr['rate']\n",
    "    \n",
    "    return result"
   ]
  },
  {
   "cell_type": "code",
   "execution_count": 16,
   "id": "596f5338",
   "metadata": {},
   "outputs": [
    {
     "data": {
      "text/plain": [
       "122.96544"
      ]
     },
     "execution_count": 16,
     "metadata": {},
     "output_type": "execute_result"
    }
   ],
   "source": [
    "curconv(\"EUR\", 100)"
   ]
  },
  {
   "cell_type": "code",
   "execution_count": 17,
   "id": "41de953d",
   "metadata": {},
   "outputs": [
    {
     "data": {
      "text/plain": [
       "1.241401"
      ]
     },
     "execution_count": 17,
     "metadata": {},
     "output_type": "execute_result"
    }
   ],
   "source": [
    "curconv(\"JPY\", 100)"
   ]
  },
  {
   "cell_type": "markdown",
   "id": "0814eb62",
   "metadata": {},
   "source": [
    "Referred to https://www.geeksforgeeks.org/how-to-open-a-file-using-the-with-statement/ for opening files in previous questions"
   ]
  },
  {
   "cell_type": "markdown",
   "id": "22e0b385",
   "metadata": {},
   "source": [
    "## 9\n",
    "\n",
    "Each of the following will cause an exception (an error). Identify what type of exception each will cause\n",
    "\n",
    "\n",
    "1. Trying to add incompatible variables, as in adding 6 + ‘a’  \n",
    "\n",
    "   Solution : TypeError  \n",
    "     \n",
    "\n",
    "2. Referring to the 12th item of a list that has only 10 items  \n",
    "\n",
    "   Solution : IndexError  \n",
    "     \n",
    "\n",
    "3. Using a value that is out of range for a function’s input, such as calling math.sqrt(-1.0)  \n",
    "\n",
    "   Solution : ValueError  \n",
    "     \n",
    "\n",
    "4. Using an undeclared variable, such as print(x) when x has not been defined  \n",
    "  \n",
    "   Solution : NameError  \n",
    "     \n",
    "  \n",
    "6. Trying to open a file that does not exist, such as mistyping the file name or looking in the wrong directory.  \n",
    "\n",
    "   Solution : FileNotFoundError"
   ]
  },
  {
   "cell_type": "markdown",
   "id": "b7c4219d",
   "metadata": {},
   "source": [
    "## 10\n",
    "Encryption is the process of hiding the meaning of a text by substituting letters in the\n",
    "message with other letters, according to some system. If the process is successful, no\n",
    "one but the intended recipient can understand the encrypted message. Cryptanalysis\n",
    "refers to attempts to undo the encryption, even if some details of the encryption are\n",
    "unknown (for example, if an encrypted message has been intercepted). The first step\n",
    "of cryptanalysis is often to build up a table of letter frequencies in the encrypted text.  \n",
    "Assume that the string letters is already defined as'abcdefghijklmnopqrstuvwxyz'. Write a function called frequencies()\n",
    "that takes a string as its only parameter, and returns a list of integers, showing the\n",
    "number of times each character appears in the text.  \n",
    "Your function may ignore any characters that are not in letters.  \n",
    "  \n",
    ".>>> frequencies('The quick red fox got bored and went home.')\n",
    "[1, 1, 1, 3, 5, 1, 1, 2, 1, 0, 1, 0, 1, 2, 4, 0, 1, 2, 0, 2,\n",
    "1, 0, 1, 1, 0, 0]\n",
    "  \n",
    ".>>> frequencies('apple')"
   ]
  },
  {
   "cell_type": "code",
   "execution_count": 24,
   "id": "870b7319",
   "metadata": {},
   "outputs": [],
   "source": [
    "def frequencies(sentence :str):\n",
    "    frequencyList = [0]*26\n",
    "    alphas = 'abcdefghijklmnopqrstuvwxyz'\n",
    "    for char in sentence:\n",
    "        if char in alphas:\n",
    "            pos = alphas.index(char)\n",
    "            frequencyList[pos] +=1\n",
    "    return frequencyList"
   ]
  },
  {
   "cell_type": "code",
   "execution_count": 25,
   "id": "6a3ee716",
   "metadata": {},
   "outputs": [
    {
     "data": {
      "text/plain": [
       "[1, 1, 1, 3, 5, 1, 1, 2, 1, 0, 1, 0, 1, 2, 4, 0, 1, 2, 0, 2, 1, 0, 1, 1, 0, 0]"
      ]
     },
     "execution_count": 25,
     "metadata": {},
     "output_type": "execute_result"
    }
   ],
   "source": [
    "frequencies(\"The quick red fox got bored and went home.\")"
   ]
  },
  {
   "cell_type": "code",
   "execution_count": 26,
   "id": "c740fa0b",
   "metadata": {},
   "outputs": [
    {
     "data": {
      "text/plain": [
       "[1, 0, 0, 0, 1, 0, 0, 0, 0, 0, 0, 1, 0, 0, 0, 2, 0, 0, 0, 0, 0, 0, 0, 0, 0, 0]"
      ]
     },
     "execution_count": 26,
     "metadata": {},
     "output_type": "execute_result"
    }
   ],
   "source": [
    "frequencies(\"apple\")"
   ]
  },
  {
   "cell_type": "code",
   "execution_count": null,
   "id": "9e02b4ea",
   "metadata": {},
   "outputs": [],
   "source": []
  }
 ],
 "metadata": {
  "kernelspec": {
   "display_name": "Python 3 (ipykernel)",
   "language": "python",
   "name": "python3"
  },
  "language_info": {
   "codemirror_mode": {
    "name": "ipython",
    "version": 3
   },
   "file_extension": ".py",
   "mimetype": "text/x-python",
   "name": "python",
   "nbconvert_exporter": "python",
   "pygments_lexer": "ipython3",
   "version": "3.10.9"
  }
 },
 "nbformat": 4,
 "nbformat_minor": 5
}
